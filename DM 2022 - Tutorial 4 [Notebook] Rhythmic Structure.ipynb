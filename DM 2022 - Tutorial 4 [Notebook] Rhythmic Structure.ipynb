{
 "cells": [
  {
   "cell_type": "code",
   "execution_count": 1,
   "id": "6452edbb",
   "metadata": {},
   "outputs": [],
   "source": [
    "from fractions import Fraction\n",
    "\n",
    "from music21 import midi, note, stream, instrument, meter\n",
    "\n",
    "#Just a helper function\n",
    "def flatten_list(hierarchical_list):\n",
    "    #Flatten a list of lists\n",
    "    return [x for sublist in hierarchical_list for x in sublist]"
   ]
  },
  {
   "cell_type": "markdown",
   "source": [
    "## Configure Music21\n",
    "\n",
    "The library uses your installation of MuseScore to display scores. Tell it where the MuseScore executable can be found on your computer by uncommenting and adapting the respective line."
   ],
   "metadata": {
    "collapsed": false
   }
  },
  {
   "cell_type": "code",
   "execution_count": 2,
   "outputs": [],
   "source": [
    "from music21 import environment\n",
    "# Windows (adapt Program Files)\n",
    "#musescore_executable = r'C:\\Program Files (x86)\\MuseScore 3\\bin\\MuseScore3.exe'\n",
    "\n",
    "# Mac path\n",
    "#musescore_executable = '/Applications/MuseScore 3.app/Contents/MacOS/mscore'\n",
    "\n",
    "# Linux path (if Package manager is not Snap)\n",
    "musescore_executable = '/usr/bin/mscore'\n",
    "# otherwise, download AppImage, e.g.\n",
    "#musescore_executable = '~/Downloads/MuseScore-3.6.2.548021370-x86_64.AppImage'\n",
    "\n",
    "environment.set('musescoreDirectPNGPath', musescore_executable)\n",
    "environment.set('musicxmlPath', musescore_executable)\n",
    "environment.set('autoDownload', 'allow')"
   ],
   "metadata": {
    "collapsed": false,
    "pycharm": {
     "name": "#%%\n"
    }
   }
  },
  {
   "cell_type": "markdown",
   "id": "17f60d41",
   "metadata": {},
   "source": [
    "# Helper functions\n",
    "\n",
    "In this tutorial, we use the library `music21` to visualize rhythms in score format. Music21 stores `Note` objects into containers called `Stream` (or its subclass `Measure`). The parameters of the note objects (e.g., duration, onset, and pitch) can be transformed algorithmically, and the containers can then be visualized in score format or rendered as audio playback in midi format.\n",
    "\n",
    "First, here is a shortcut for **playback**:"
   ]
  },
  {
   "cell_type": "code",
   "execution_count": 3,
   "id": "6863241f",
   "metadata": {},
   "outputs": [],
   "source": [
    "def play(score):\n",
    "    \"\"\"Takes a Measure or Stream and plays it back.\"\"\"\n",
    "    midi.realtime.StreamPlayer(score).play()"
   ]
  },
  {
   "cell_type": "markdown",
   "id": "43f5dbae",
   "metadata": {},
   "source": [
    "**Now, we define a function to create individual percussion sounds with a given duration.**\n",
    "\n",
    "We express durations in whole-note units, so that quarter-notes have duration 1/4, eigth-notes have duration 1/8 etc.\n",
    "\n",
    "Since we are dealing with rhythm, we don't really care about the pitch of the notes, so we assign a default value (C4)."
   ]
  },
  {
   "cell_type": "code",
   "execution_count": 4,
   "id": "4830aa2f",
   "metadata": {},
   "outputs": [],
   "source": [
    "def percussion_hit(duration, pitch = \"C4\"):\n",
    "    \"\"\"Create Note object for percussion hits (default pitch is C4)\n",
    "\n",
    "    Parameters\n",
    "    ----------\n",
    "    duration : float or Fraction\n",
    "        Duration of the event.\n",
    "    pitch : str, optional\n",
    "        Matters only for display.\n",
    "\n",
    "    Returns\n",
    "    -------\n",
    "    music21.note.Note\n",
    "        A Note object that can be embedded in containers such as Chords, Measures, Streams\n",
    "    \"\"\"\n",
    "    return note.Note(pitch, quarterLength = duration*4)"
   ]
  },
  {
   "cell_type": "markdown",
   "id": "27262052",
   "metadata": {},
   "source": [
    "So, a percussion_hit of duration 1 (whole-note) spans 4 quarter-notes:"
   ]
  },
  {
   "cell_type": "code",
   "execution_count": 5,
   "id": "6ff1ee4d",
   "metadata": {},
   "outputs": [
    {
     "data": {
      "text/plain": "4.0"
     },
     "execution_count": 5,
     "metadata": {},
     "output_type": "execute_result"
    }
   ],
   "source": [
    "whole_note = percussion_hit(1)\n",
    "whole_note.quarterLength"
   ]
  },
  {
   "cell_type": "code",
   "execution_count": 6,
   "id": "87ac0695",
   "metadata": {},
   "outputs": [
    {
     "data": {
      "image/png": "[encoded data removed]",
      "text/plain": "<IPython.core.display.Image object>"
     },
     "metadata": {
      "image/png": {
       "width": 206,
       "height": 49
      }
     },
     "output_type": "display_data"
    }
   ],
   "source": [
    "whole_note.show()"
   ]
  },
  {
   "cell_type": "markdown",
   "id": "0080cab9",
   "metadata": {},
   "source": [
    "**Now, we create a container object (a Stream or a Measure) for our percussion_hits.**"
   ]
  },
  {
   "cell_type": "code",
   "execution_count": 7,
   "id": "85d6aa1a",
   "metadata": {},
   "outputs": [],
   "source": [
    "def create_percussion(time_sig = None):\n",
    "    \"\"\" Creates a container with or without time signature to which\n",
    "    events can be appended.\n",
    "\n",
    "    Parameters\n",
    "    ----------\n",
    "    time_sig : str, optional\n",
    "        By default, no time signature is specified, so that a single measure of unspecified capacity is generated.\n",
    "        If you do specify a time signature a stream with the given time signature is created instead.\n",
    "\n",
    "    Returns\n",
    "    -------\n",
    "    music21.stream.Stream\n",
    "        If time_sig is None, the return value is a Measure which is a subclass of Stream.\n",
    "    \"\"\"\n",
    "    if time_sig == None:\n",
    "        drumPart = stream.Measure()\n",
    "    else:\n",
    "        drumPart = stream.Stream()\n",
    "        drumPart.timeSignature = meter.TimeSignature(time_sig)\n",
    "    \n",
    "    drumPart.insert(0, instrument.Woodblock()) #assign woodblock timbre\n",
    "    return drumPart"
   ]
  },
  {
   "cell_type": "code",
   "execution_count": 8,
   "outputs": [
    {
     "data": {
      "image/png": "[encoded data removed]",
      "text/plain": "<IPython.core.display.Image object>"
     },
     "metadata": {
      "image/png": {
       "width": 247,
       "height": 49
      }
     },
     "output_type": "display_data"
    }
   ],
   "source": [
    "no_timesig = create_percussion()\n",
    "no_timesig.append(percussion_hit(3))\n",
    "no_timesig.show()"
   ],
   "metadata": {
    "collapsed": false,
    "pycharm": {
     "name": "#%%\n"
    }
   }
  },
  {
   "cell_type": "markdown",
   "id": "45f973b2",
   "metadata": {},
   "source": [
    "**We can now create rhythms by appending percussion_hits to a stream.**\n",
    "\n",
    "To simplify the process, we define new function that appends a percussion_hit of given duration to an existing percussion stream:"
   ]
  },
  {
   "cell_type": "code",
   "execution_count": 9,
   "id": "ef59e621",
   "metadata": {},
   "outputs": [],
   "source": [
    "def append_event(duration, stream_object, rest = False, pitch ='C4'):\n",
    "    \"\"\" Appends a rest or percussion_hit of the given duration to an existing stream.\n",
    "\n",
    "    Parameters\n",
    "    ----------\n",
    "    duration : float or Fraction\n",
    "        Duration of the new event.\n",
    "    stream_object : music21.stream.Stream\n",
    "        Stream object to which append the new event to.\n",
    "    rest : bool, optional\n",
    "        By default, the appended event has the pitch ``pitch``.\n",
    "        Pass True to append a rest instead.\n",
    "    pitch : str, optional\n",
    "        Pitch of the appended event, matters only for display. Disregarded if ``rest`` is True.\n",
    "\n",
    "    Returns\n",
    "    -------\n",
    "    None\n",
    "    \"\"\"\n",
    "    if rest:\n",
    "        stream_object.append(note.Rest(quarterLength = duration*4))\n",
    "    else:\n",
    "        stream_object.append(percussion_hit(duration, pitch))"
   ]
  },
  {
   "cell_type": "code",
   "execution_count": 10,
   "id": "675a559e",
   "metadata": {},
   "outputs": [
    {
     "data": {
      "image/png": "[encoded data removed]",
      "text/plain": "<IPython.core.display.Image object>"
     },
     "metadata": {
      "image/png": {
       "width": 226,
       "height": 49
      }
     },
     "output_type": "display_data"
    }
   ],
   "source": [
    "four_four = create_percussion(\"4/4\")\n",
    "append_event(1/8, four_four)\n",
    "four_four.show()"
   ]
  },
  {
   "cell_type": "markdown",
   "id": "fb4be49e",
   "metadata": {},
   "source": [
    "Finally, bundle everything so we can create a rhythm directly from a list of durations:"
   ]
  },
  {
   "cell_type": "code",
   "execution_count": 11,
   "id": "32762674",
   "metadata": {},
   "outputs": [],
   "source": [
    "def rhythm_from_sequence(durations, time_sig = None, pitch = 'C4', rhythm=None):\n",
    "    \"\"\" Generate rhythmic stream from a list of durations. Rests are indicated by specifying a duration as a string.\n",
    "\n",
    "    Parameters\n",
    "    ----------\n",
    "    durations : list of {float, Fraction, str}\n",
    "        Sequence of durations. Floats or Fractions passed as strings are interpreted as rests.\n",
    "    time_sig : str, optional\n",
    "        By default, no time signature is specified, so that a single measure of unspecified capacity is generated.\n",
    "        If you do specify a time signature a stream with the given time signature is created instead.\n",
    "    pitch : str, optional\n",
    "        Matters only for display.\n",
    "    rhythm : music21.stream.Stream, optional\n",
    "        If you want to append the rhythm to an existing Stream, pass this Stream. Otherwise a new one will be created.\n",
    "\n",
    "    Returns\n",
    "    -------\n",
    "    music21.stream.Stream\n",
    "        The rhythm reflecting the given list of durations.\n",
    "    \"\"\"\n",
    "    if rhythm is None:\n",
    "        rhythm = create_percussion(time_sig = time_sig)\n",
    "    for dur in durations:\n",
    "        is_rest = False\n",
    "        if dur not in (0, '0'):\n",
    "            if isinstance(dur, str):\n",
    "                is_rest = True\n",
    "                dur = Fraction(dur)\n",
    "            append_event(dur, rhythm, rest = is_rest, pitch = pitch)\n",
    "    return rhythm"
   ]
  },
  {
   "cell_type": "code",
   "execution_count": 12,
   "id": "de126463",
   "metadata": {},
   "outputs": [
    {
     "data": {
      "image/png": "[encoded data removed]",
      "text/plain": "<IPython.core.display.Image object>"
     },
     "metadata": {
      "image/png": {
       "width": 367,
       "height": 49
      }
     },
     "output_type": "display_data"
    }
   ],
   "source": [
    "rhythm = rhythm_from_sequence([3/8, 1/8, '1/2'], time_sig='3/4')\n",
    "rhythm.show()"
   ]
  },
  {
   "cell_type": "code",
   "execution_count": 13,
   "outputs": [
    {
     "data": {
      "image/png": "[encoded data removed]",
      "text/plain": "<IPython.core.display.Image object>"
     },
     "metadata": {
      "image/png": {
       "width": 674,
       "height": 53
      }
     },
     "output_type": "display_data"
    }
   ],
   "source": [
    "rhythm = rhythm_from_sequence([1/6]*3, time_sig='3/4', rhythm=rhythm)\n",
    "rhythm.show()"
   ],
   "metadata": {
    "collapsed": false,
    "pycharm": {
     "name": "#%%\n"
    }
   }
  },
  {
   "cell_type": "markdown",
   "id": "7682fb01",
   "metadata": {},
   "source": [
    "# Hierarchical generation of rhythm"
   ]
  },
  {
   "cell_type": "markdown",
   "id": "cb4d8771",
   "metadata": {},
   "source": [
    "In a Markov model, each rhythmic event depends on the preceding one(s). A different approach to modelling rhythm is to interpret rhythmic events as recursive elaborations of a latent rhythmic structure. The following example of hierarchical rhythm generation is based on the context-free rhythm grammar from [Rohrmeier (2020)](https://program.ismir2020.net/poster_4-20.html).\n",
    "\n"
   ]
  },
  {
   "cell_type": "markdown",
   "id": "38816964",
   "metadata": {},
   "source": [
    "## Rhythmic objects"
   ]
  },
  {
   "cell_type": "markdown",
   "id": "cf8949aa",
   "metadata": {},
   "source": [
    "First, in this formalism, a rhythmic category is a 3-ple of parameters defining a time-span: the upbeat, the body and the tail. The body represents the \"ideal\" duration of the timespan, if no extensions or timestealing happen. The upbeat encodes the addition (if positive) or subtraction (if negative) of a portion at the beginning of the timespan. Similarly, the coda encodes the addition (if positive) or subtraction (if negative) of a portion at the end of the timespan. As a consequence, the overall duration of a timespan (a, b, c) is a+b+c. \n",
    "\n",
    "Each rhythmic category can generate other rhythmic categories by means of the application of a rule."
   ]
  },
  {
   "cell_type": "code",
   "execution_count": 14,
   "id": "0330e500",
   "metadata": {},
   "outputs": [],
   "source": [
    "class rhythmic_category:\n",
    "    def __init__(self, upbeat, body, tail):\n",
    "        #Parameters\n",
    "        self.upbeat = upbeat\n",
    "        self.body = body\n",
    "        self.tail = tail\n",
    "        self.parameters = (upbeat, body, tail)\n",
    "       \n",
    "    def showScore(self):\n",
    "        #A helper function to display the rhythmic category. Shows a positive upbeat separately from the body+tail\n",
    "        sequence = [self.upbeat, self.body + self.tail]\n",
    "        if self.upbeat < 0:\n",
    "            sequence[0] = 0\n",
    "            sequence[1] += self.upbeat\n",
    "            \n",
    "        return rhythm_from_sequence(sequence).show()\n",
    "        \n",
    "        \n",
    "    \n",
    "        \n",
    "    ####    \n",
    "    #Rule applications\n",
    "    ####\n",
    "    \n",
    "    def split(self, ratio = 1/2, right_child_upbeat = 0):\n",
    "        #SPLIT operation on parent metrical category, based on ratio = left_child_body/parent.body. \n",
    "        #An upbeat for the right child can be specified.\n",
    "        left_child_body = self.body*ratio\n",
    "        right_child_body = self.body-left_child_body\n",
    "    \n",
    "        left_child_cat = rhythmic_category(self.upbeat, left_child_body, - right_child_upbeat)\n",
    "        right_child_cat = rhythmic_category(right_child_upbeat, right_child_body, self.tail)\n",
    "    \n",
    "        return list(deepflatten([left_child_cat, right_child_cat]))\n",
    "    \n",
    "    def prepare(self):\n",
    "        #UPBEAT rule: separates upbeat from body\n",
    "        if self.upbeat > 0:\n",
    "            left_child_cat = rhythmic_category(0, self.upbeat, 0)\n",
    "            right_child_cat = rhythmic_category(0, self.body, self.tail)\n",
    "    \n",
    "            return list(deepflatten([left_child_cat,  right_child_cat]))\n",
    "        else:\n",
    "            return [self]\n",
    "        \n",
    "    def e_shift(self):\n",
    "        #ANTICIPATE rule: shifts body to the left\n",
    "        return [rhythmic_category(0, self.body, self.upbeat+self.tail)]\n",
    "    \n",
    "    def l_shift(self):\n",
    "        #DELAY rule: shifts body to the right\n",
    "        return [rhythmic_category(self.upbeat + self.tail, self.body, 0)]\n",
    "    \n",
    "    ####\n",
    "    #Helpers to derive terminal durations at the end of a derivation\n",
    "    ####\n",
    "    \n",
    "    def timesteal(self):\n",
    "        #TIMESTEALING. If a category is left with negative upbeat or tail, subtract it from the body\n",
    "        new_upbeat = self.upbeat\n",
    "        new_tail = self.tail\n",
    "        timestolen_body = self.body\n",
    "        if self.upbeat < 0:\n",
    "            new_upbeat = 0\n",
    "            timestolen_body += self.upbeat\n",
    "        if self.tail < 0:\n",
    "            new_tail = 0\n",
    "            timestolen_body += self.tail\n",
    "        return [rhythmic_category(new_upbeat, timestolen_body, new_tail)]\n",
    "    \n",
    "    def attach_tail(self):\n",
    "        #Attach tail to body, to be used if tail > 0\n",
    "        return [rhythmic_category(self.upbeat, self.body+self.tail, 0)]\n",
    "\n",
    "    \n",
    "    def get_terminals(self):\n",
    "    #Recursively get terminal durations from metrical categories.\n",
    "    #ARBITRARY CONVENTIONS TO TERMINATE DERIVATION: If there is negative head or tail, interpret as timestealing. If there is positive head, interpret as preparation. If there is positive tail, attch it to the body.\n",
    "    \n",
    "        if (self.upbeat == 0) and (self.tail == 0):\n",
    "            return [self.body]\n",
    "        elif (self.upbeat < 0) | (self.tail < 0):\n",
    "            return  list(deepflatten([x.get_terminals() for x in self.timesteal()]))\n",
    "        elif self.tail > 0:\n",
    "            return  list(deepflatten([x.get_terminals() for x in self.attach_tail()]))\n",
    "        elif self.upbeat > 0:\n",
    "            return list(deepflatten([x.get_terminals() for x in self.prepare()]))\n",
    "    \n",
    "        \n",
    "        "
   ]
  },
  {
   "cell_type": "markdown",
   "id": "e121e86c",
   "metadata": {},
   "source": [
    "For example, here is a rhythmic category:"
   ]
  },
  {
   "cell_type": "code",
   "execution_count": 15,
   "id": "69aa032b",
   "metadata": {},
   "outputs": [
    {
     "data": {
      "image/png": "[encoded data removed]",
      "text/plain": "<IPython.core.display.Image object>"
     },
     "metadata": {
      "image/png": {
       "width": 234,
       "height": 49
      }
     },
     "output_type": "display_data"
    }
   ],
   "source": [
    "example_category = rhythmic_category(1/4, 1, 0)\n",
    "example_category.showScore()"
   ]
  },
  {
   "cell_type": "markdown",
   "id": "7bb48e71",
   "metadata": {},
   "source": [
    "Rules can be applied to have this \"parent\" category generate other categories as its own \"children\"."
   ]
  },
  {
   "cell_type": "markdown",
   "id": "e197d772",
   "metadata": {},
   "source": [
    "**Split**. This rule splits a rhythmic category into two \"children\" by dividing the body into two parts. The left child inherits the upbeat of the parent category, while the right child inherits the coda of the parent category. Finally, the right child might \"steal\" a portion from the left child (if the right child has a positive upbeat), or vice-versa (if the right child has a negative upbeat). The split rule comes with two parameters. First, the split ratio (which is often 1/2, representing an equal split). The second parameter is optional, and specifies the upbeat of the right child (default is 0)."
   ]
  },
  {
   "cell_type": "code",
   "execution_count": 16,
   "id": "a619aaad",
   "metadata": {},
   "outputs": [
    {
     "ename": "NameError",
     "evalue": "name 'deepflatten' is not defined",
     "output_type": "error",
     "traceback": [
      "\u001B[0;31m---------------------------------------------------------------------------\u001B[0m",
      "\u001B[0;31mNameError\u001B[0m                                 Traceback (most recent call last)",
      "Input \u001B[0;32mIn [16]\u001B[0m, in \u001B[0;36m<cell line: 1>\u001B[0;34m()\u001B[0m\n\u001B[0;32m----> 1\u001B[0m splitted_example \u001B[38;5;241m=\u001B[39m \u001B[43mexample_category\u001B[49m\u001B[38;5;241;43m.\u001B[39;49m\u001B[43msplit\u001B[49m\u001B[43m(\u001B[49m\u001B[38;5;241;43m1\u001B[39;49m\u001B[38;5;241;43m/\u001B[39;49m\u001B[38;5;241;43m2\u001B[39;49m\u001B[43m)\u001B[49m\n\u001B[1;32m      2\u001B[0m splitted_example\n",
      "Input \u001B[0;32mIn [14]\u001B[0m, in \u001B[0;36mrhythmic_category.split\u001B[0;34m(self, ratio, right_child_upbeat)\u001B[0m\n\u001B[1;32m     31\u001B[0m left_child_cat \u001B[38;5;241m=\u001B[39m rhythmic_category(\u001B[38;5;28mself\u001B[39m\u001B[38;5;241m.\u001B[39mupbeat, left_child_body, \u001B[38;5;241m-\u001B[39m right_child_upbeat)\n\u001B[1;32m     32\u001B[0m right_child_cat \u001B[38;5;241m=\u001B[39m rhythmic_category(right_child_upbeat, right_child_body, \u001B[38;5;28mself\u001B[39m\u001B[38;5;241m.\u001B[39mtail)\n\u001B[0;32m---> 34\u001B[0m \u001B[38;5;28;01mreturn\u001B[39;00m \u001B[38;5;28mlist\u001B[39m(\u001B[43mdeepflatten\u001B[49m([left_child_cat, right_child_cat]))\n",
      "\u001B[0;31mNameError\u001B[0m: name 'deepflatten' is not defined"
     ]
    }
   ],
   "source": [
    "splitted_example = example_category.split(1/2)\n",
    "splitted_example"
   ]
  },
  {
   "cell_type": "code",
   "execution_count": null,
   "id": "730e716a",
   "metadata": {},
   "outputs": [],
   "source": [
    "[child.parameters for child in splitted_example]"
   ]
  },
  {
   "cell_type": "markdown",
   "id": "65d30ad8",
   "metadata": {},
   "source": [
    "Note that this is an equal split where the children do not steal time from each other. Here we have a different split, where the right child has an upbeat, hence stealing time from the left child:"
   ]
  },
  {
   "cell_type": "code",
   "execution_count": null,
   "id": "66c97866",
   "metadata": {},
   "outputs": [],
   "source": [
    "splitted_example_with_upbeat = example_category.split(1/2, 1/16)\n",
    "[child.parameters for child in splitted_example_with_upbeat]"
   ]
  },
  {
   "cell_type": "markdown",
   "id": "603f61a2",
   "metadata": {},
   "source": [
    "**Prepare**. This rule separates the upbeat (if it is positive) from the body, creating two distinct rhytmic categories: one inherits the parent's upbeat as its own body, the other inherits the parent's body and tail (but has not upbeat)."
   ]
  },
  {
   "cell_type": "code",
   "execution_count": null,
   "id": "6aa072af",
   "metadata": {},
   "outputs": [],
   "source": [
    "[child.parameters for child in example_category.prepare()]"
   ]
  },
  {
   "cell_type": "markdown",
   "id": "66d5e7ee",
   "metadata": {},
   "source": [
    "**Anticipate and Delay**: these two rules are unary rules, i.e. the parent is simply transformed into one different category. In the anticipation (or e-shift) rule, the upbeat is absorbed into the body, so that the body of the timespan is shifted to the left. The delay (or l-shift) rule does the opposite.\n",
    "\n",
    "Here is, for example, an application of the anticipation rule. Since this is a unary rule, only one child is generated:"
   ]
  },
  {
   "cell_type": "code",
   "execution_count": null,
   "id": "44dfd8ef",
   "metadata": {},
   "outputs": [],
   "source": [
    "[child.parameters for child in example_category.e_shift()]"
   ]
  },
  {
   "cell_type": "markdown",
   "id": "2b33fb3e",
   "metadata": {},
   "source": [
    "## Generation"
   ]
  },
  {
   "cell_type": "markdown",
   "id": "d68edd10",
   "metadata": {},
   "source": [
    "Starting with a \"root\" rhythmic category, we can apply these rules recursively to generate a rhythm within the timespan of the root.\n",
    "\n",
    "Let us first define some useful functions."
   ]
  },
  {
   "cell_type": "markdown",
   "id": "dd3dfc44",
   "metadata": {},
   "source": [
    "The `rule` function just specifies a rule to be applied, with its parameters."
   ]
  },
  {
   "cell_type": "code",
   "execution_count": null,
   "id": "722b1d15",
   "metadata": {},
   "outputs": [],
   "source": [
    "def rule(rule_type, p1 = None, p2 = None):\n",
    "    #Returns dictionary specifying a rule with its parameters\n",
    "    \n",
    "    rule_def = {'type': rule_type}\n",
    "    \n",
    "    if p1 != None:\n",
    "        rule_def['p1'] = p1\n",
    "    if p2 != None:\n",
    "        rule_def['p2'] = p2\n",
    "    \n",
    "    return rule_def\n",
    "    "
   ]
  },
  {
   "cell_type": "markdown",
   "id": "febca237",
   "metadata": {},
   "source": [
    "The `generate_hierarchical_rhythm` function is the most important one. In order to generate a rhythm, we need a root category and a recipe that specifies what rules are to be applied (and in what order). Given a recipe and a root category, this function reads the recipe and applies the required rules recursively to the children, grand-children, grand-grand-children etc. of the root category.  "
   ]
  },
  {
   "cell_type": "code",
   "execution_count": null,
   "id": "5bdcd8c8",
   "metadata": {},
   "outputs": [],
   "source": [
    "def generate_hierarchical_rhythm(tree, starting_symbol, preterminal_string = []):\n",
    "    #Recursively generate rhythm from a hierarchy of rule applications\n",
    "    \n",
    "    #If node is a pre-terminal, add it to the list of pre-terminals...\n",
    "    if len(tree) == 0:\n",
    "        return preterminal_string + [starting_symbol]\n",
    "    \n",
    "    #...otherwise, apply the rule associated with that node\n",
    "    else:\n",
    "        rule = tree[0]\n",
    "        if rule['type'] == 'split':\n",
    "            children = starting_symbol.split(ratio = rule['p1'], right_child_upbeat = rule['p2'])\n",
    "        elif rule['type'] == 'prepare':\n",
    "            children = starting_symbol.prepare()\n",
    "        elif rule['type'] == 'anticipate':\n",
    "            children = starting_symbol.e_shift()\n",
    "        elif rule['type'] == 'delay':\n",
    "            children = starting_symbol.l_shift()\n",
    "            \n",
    "        #Call generate_hierarchical_rhythm recursively for all children of the current node   \n",
    "        for child_n in range(len(children)):\n",
    "            preterminal_string = generate_hierarchical_rhythm(tree[child_n+1], children[child_n], preterminal_string = preterminal_string)\n",
    "                \n",
    "    \n",
    "        return preterminal_string\n",
    "    "
   ]
  },
  {
   "cell_type": "markdown",
   "id": "85dc4585",
   "metadata": {},
   "source": [
    "The last few functions just help to turn the output of `generate_hierarchical_rhythm` into a list of durations, and to turn this list of durations into a music21 stream."
   ]
  },
  {
   "cell_type": "code",
   "execution_count": null,
   "id": "1e4e0e02",
   "metadata": {},
   "outputs": [],
   "source": [
    "def get_terminal_durations(rhythmic_categories):\n",
    "    #Turns list of pre-terminal categories in list of terminal durations\n",
    "    return list(deepflatten([x.get_terminals() for x in rhythmic_categories]))\n",
    "\n",
    "\n",
    "def hierarchical_rhythm(tree, starting_symbol):\n",
    "    #generate list of durations hierarchically\n",
    "    return get_terminal_durations(generate_hierarchical_rhythm(tree, starting_symbol))\n",
    "\n",
    "def rhythm(tree, starting_symbol, time_sig = None):\n",
    "    #Show score  \n",
    "    return rhythm_from_sequence(hierarchical_rhythm(tree, starting_symbol), time_sig = time_sig)\n",
    "    "
   ]
  },
  {
   "cell_type": "markdown",
   "id": "756027e9",
   "metadata": {},
   "source": [
    "Here, as an example, we generate the initial rhythm from the Jazz standard \"Blue Bossa\" (Rohrmeier 2020) \n",
    "https://youtu.be/U7eOs5lERww?t=12"
   ]
  },
  {
   "cell_type": "markdown",
   "id": "94c77601",
   "metadata": {},
   "source": [
    "<img src=\"BlueBossa.png\">"
   ]
  },
  {
   "cell_type": "markdown",
   "id": "4ee7b413",
   "metadata": {},
   "source": [
    "The rhythm lasts 4 bars (in 4/4 meter) plus a 1/4 upbeat, so that the root category is:"
   ]
  },
  {
   "cell_type": "code",
   "execution_count": null,
   "id": "9a38d19a",
   "metadata": {},
   "outputs": [],
   "source": [
    "root = rhythmic_category(1/4, 4, 0)"
   ]
  },
  {
   "cell_type": "markdown",
   "id": "03c03bee",
   "metadata": {},
   "source": [
    "<img src=\"bb01.png\">\n",
    "The recipe to generate a rhythm can be represented in the form of a derivation tree. Each node of the tree is occupied by a rhythmic category, and the branches originating at a node lead to the children of that node under some rule application. A full derivation tree for the example from Blue Bossa is the following: "
   ]
  },
  {
   "cell_type": "markdown",
   "id": "ff01806c",
   "metadata": {},
   "source": [
    "<img src=\"HierarchicalRhythm.png\">"
   ]
  },
  {
   "cell_type": "markdown",
   "id": "1079ecc3",
   "metadata": {},
   "source": [
    "Let us start from the top of the tree, where we find the root category. The first branching is a split rule (the body is split in half), leading to two children nodes. We can represent a node of the tree as a list, containing the rule applied at that node (if any), as well as its children nodes. In the case of the topmost node in the above tree, the rule is a split with ratio 1/2 and right-child's head 1/4. Since we are not applying any rule to the two children nodes (yet), they are represented as empty lists. "
   ]
  },
  {
   "cell_type": "code",
   "execution_count": null,
   "id": "a9bd08e5",
   "metadata": {},
   "outputs": [],
   "source": [
    "tree = [rule('split',1/2, 1/4), #root\n",
    "            [], #left child of the root\n",
    "            []  #right child of the root\n",
    "       ]"
   ]
  },
  {
   "cell_type": "markdown",
   "id": "32d6bf6a",
   "metadata": {},
   "source": [
    "The function `rhythm` takes a tree and a root as arguments and returns a music21 stream with the resulting rhythm. In order to do that, it calls the recursive function `generate_hierarchical_rhythm` that reads the tree and applies the rule applications, starting with the root category."
   ]
  },
  {
   "cell_type": "code",
   "execution_count": null,
   "id": "68a6c28c",
   "metadata": {},
   "outputs": [],
   "source": [
    "generated_rhythm = rhythm(tree, root)\n",
    "generated_rhythm.show()"
   ]
  },
  {
   "cell_type": "markdown",
   "id": "6478f5d7",
   "metadata": {},
   "source": [
    "<img src=\"bb02.png\">\n",
    "Let's look now at the left child of the root node. Here, another split rule is applied, resulting in two children with equal body (split factor 1/2) and a 1/8 upbeat for the right child. "
   ]
  },
  {
   "cell_type": "code",
   "execution_count": null,
   "id": "00fb4adc",
   "metadata": {},
   "outputs": [],
   "source": [
    "tree = [rule('split',1/2, 1/4), #root\n",
    "            [rule('split', 1/2, 1/8), #left child of the root\n",
    "                 [], #left child of the left child of the root\n",
    "                 []  #right child of the left child of the root\n",
    "            ],\n",
    "            [] #right child of the root\n",
    "       ]\n",
    "generated_rhythm = rhythm(tree, root)\n",
    "generated_rhythm.show()\n",
    "play(generated_rhythm)"
   ]
  },
  {
   "cell_type": "markdown",
   "id": "1ed3e47d",
   "metadata": {},
   "source": [
    "<img src=\"bb03.png\">\n",
    "The left child of the left child of the root also undergoes a split operation..."
   ]
  },
  {
   "cell_type": "code",
   "execution_count": null,
   "id": "067faa4e",
   "metadata": {},
   "outputs": [],
   "source": [
    "tree = [rule('split',1/2, 1/4), #root\n",
    "            [rule('split', 1/2, 1/8), #left child of the root\n",
    "                 [rule('split', 1/2, 1/8), #left child of the left child of the root\n",
    "                      [], #left child of the left child of the left child of the root\n",
    "                      []  #right child of the left child of the left child of the root\n",
    "                 ],\n",
    "                 [] #right child of the left child of the root\n",
    "            ],\n",
    "            [] #right child of the root\n",
    "       ]\n",
    "generated_rhythm = rhythm(tree, root)\n",
    "generated_rhythm.show()\n",
    "play(generated_rhythm)"
   ]
  },
  {
   "cell_type": "markdown",
   "id": "0ff10e99",
   "metadata": {},
   "source": [
    "<img src=\"bb04.png\">\n",
    "... while its own left child (i.e., of the left child of the left child of the root) undergoes a preparation rule..."
   ]
  },
  {
   "cell_type": "code",
   "execution_count": null,
   "id": "f4e3f8f1",
   "metadata": {},
   "outputs": [],
   "source": [
    "tree = [rule('split',1/2, 1/4), #root\n",
    "            [rule('split', 1/2, 1/8), #left child of the root\n",
    "                 [rule('split', 1/2, 1/8), #left child of the left child of the root\n",
    "                      [rule('prepare'), #left child of the left child of the left child of the root\n",
    "                           [], #left child of the left child of the left child of the left child of the root\n",
    "                           []  #right child of the left child of the left child of the left child of the root\n",
    "                      ],\n",
    "                      [] #right child of the left child of the left child of the root\n",
    "                 ],\n",
    "                 [] #right child of the left child of the root\n",
    "            ],\n",
    "            [] #right child of the root\n",
    "       ]\n",
    "generated_rhythm = rhythm(tree, root)\n",
    "generated_rhythm.show()\n",
    "play(generated_rhythm)"
   ]
  },
  {
   "cell_type": "markdown",
   "id": "45f35866",
   "metadata": {},
   "source": [
    "... similarly to the right child of the left child of the left child of the root:"
   ]
  },
  {
   "cell_type": "code",
   "execution_count": null,
   "id": "f694a92d",
   "metadata": {},
   "outputs": [],
   "source": [
    "tree = [rule('split',1/2, 1/4),\n",
    "            [rule('split', 1/2, 1/8),\n",
    "                 [rule('split', 1/2, 1/8),\n",
    "                      [rule('prepare'),\n",
    "                           [],\n",
    "                           []\n",
    "                      ],\n",
    "                      [rule('prepare'),\n",
    "                           [],\n",
    "                           []\n",
    "                      ]\n",
    "                 ],\n",
    "                 []\n",
    "            ],\n",
    "            []\n",
    "       ]\n",
    "generated_rhythm = rhythm(tree, root)\n",
    "generated_rhythm.show()\n",
    "play(generated_rhythm)"
   ]
  },
  {
   "cell_type": "markdown",
   "id": "2632518e",
   "metadata": {},
   "source": [
    "The right child of this preparation rule is further elaborated with a split, whose right child is then anticipated:"
   ]
  },
  {
   "cell_type": "code",
   "execution_count": null,
   "id": "ebb50cc8",
   "metadata": {},
   "outputs": [],
   "source": [
    "tree = [rule('split',1/2, 1/4),\n",
    "            [rule('split', 1/2, 1/8),\n",
    "                 [rule('split', 1/2, 1/8),\n",
    "                      [rule('prepare'),\n",
    "                           [],\n",
    "                           []\n",
    "                      ],\n",
    "                      [rule('prepare'),\n",
    "                           [],\n",
    "                           [rule('split', 1/2, 1/8),\n",
    "                                [],\n",
    "                                [rule('anticipate'),\n",
    "                                     []\n",
    "                                ]\n",
    "                           ]\n",
    "                      ]\n",
    "                 ],\n",
    "                 []\n",
    "            ],\n",
    "            []\n",
    "       ]\n",
    "generated_rhythm = rhythm(tree, root)\n",
    "generated_rhythm.show()\n",
    "play(generated_rhythm)"
   ]
  },
  {
   "cell_type": "markdown",
   "id": "2b4ebb3b",
   "metadata": {},
   "source": [
    "<img src=\"bb06.png\">\n",
    "Fast-forward to the whole tree:"
   ]
  },
  {
   "cell_type": "code",
   "execution_count": null,
   "id": "eab53e6a",
   "metadata": {},
   "outputs": [],
   "source": [
    "complete_tree = [rule('split',1/2, 1/4),\n",
    "            [rule('split', 1/2, 1/8),\n",
    "                 [rule('split', 1/2, 1/8),\n",
    "                      [rule('prepare'),\n",
    "                           [],\n",
    "                           []\n",
    "                      ],\n",
    "                      [rule('prepare'),\n",
    "                           [],\n",
    "                           [rule('split', 1/2, 1/8),\n",
    "                                [],\n",
    "                                [rule('anticipate'),\n",
    "                                     []\n",
    "                                ]\n",
    "                           ]\n",
    "                      ]\n",
    "                 ],\n",
    "                 [rule('anticipate'),\n",
    "                     []\n",
    "                 ]\n",
    "            ],\n",
    "            [rule('split', 1/2, 1/8),\n",
    "                 [rule('split', 1/2, 1/8),\n",
    "                      [rule('prepare'),\n",
    "                           [],\n",
    "                           []\n",
    "                      ],\n",
    "                      [rule('anticipate'),\n",
    "                           []\n",
    "                      ]\n",
    "                 ],\n",
    "                 [rule('anticipate'),\n",
    "                      []\n",
    "                 ]\n",
    "            ]\n",
    "       ]\n",
    "\n",
    "generated_rhythm_complete = rhythm(complete_tree, root)\n",
    "generated_rhythm_complete.show()\n",
    "play(generated_rhythm_complete)"
   ]
  },
  {
   "cell_type": "markdown",
   "id": "6eaa3713",
   "metadata": {},
   "source": [
    "<img src=\"bb07.png\">"
   ]
  },
  {
   "cell_type": "markdown",
   "id": "0ea0a3c7",
   "metadata": {},
   "source": [
    "Overall, here is how all notes in the generated rhythm relate to each other in terms of generative steps: in yellow the splits, in blue the preparations, in green the anticipations. Orange boxes highlight places where some notes \"steal time\" from other notes (because of anticipations)."
   ]
  },
  {
   "cell_type": "markdown",
   "id": "319a2923",
   "metadata": {},
   "source": [
    "<img src=\"ColouredDerivation.png\">"
   ]
  }
 ],
 "metadata": {
  "kernelspec": {
   "name": "rhythm_grammar",
   "language": "python",
   "display_name": "rhythm_grammar"
  },
  "language_info": {
   "codemirror_mode": {
    "name": "ipython",
    "version": 3
   },
   "file_extension": ".py",
   "mimetype": "text/x-python",
   "name": "python",
   "nbconvert_exporter": "python",
   "pygments_lexer": "ipython3",
   "version": "3.7.10"
  }
 },
 "nbformat": 4,
 "nbformat_minor": 5
}